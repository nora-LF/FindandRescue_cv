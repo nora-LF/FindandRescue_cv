{
 "cells": [
  {
   "cell_type": "code",
   "execution_count": 34,
   "id": "0759cf59",
   "metadata": {},
   "outputs": [],
   "source": [
    "import numpy as np\n",
    "import json\n",
    "import cv2\n",
    "import matplotlib.pyplot as plt\n",
    "import os\n",
    "import glob\n",
    "\n",
    "%matplotlib inline"
   ]
  },
  {
   "cell_type": "code",
   "execution_count": 35,
   "id": "0d165155",
   "metadata": {},
   "outputs": [],
   "source": [
    "path = 'data/train/train-1-0/'\n",
    "hom_path = datapath + r\"homographies.json\"\n",
    "mask_path = 'data/mask.png'\n",
    "\n",
    "output = os.path.basename(datapath)\n",
    "#os.makedirs(output, exist_ok=True)\n",
    "\n",
    "mask = cv2.imread(mask_path)\n",
    "mask = mask.astype(bool)\n",
    "\n",
    "img_list = glob.glob(os.path.join(datapath, '**/*.png'), recursive=True)\n",
    "img_list.sort(key=str)\n",
    "\n",
    "with open(hom_path) as fp:\n",
    "    homographies = json.load(fp)\n",
    "    fp.close()"
   ]
  },
  {
   "cell_type": "code",
   "execution_count": 36,
   "id": "b8f00d66",
   "metadata": {
    "pycharm": {
     "name": "#%%\n"
    }
   },
   "outputs": [],
   "source": [
    "imgs = np.empty(shape=(7, 10, 1024, 1024, 3))   #(time_frame, camera, x, y, channel)\n",
    "warped_imgs = np.empty_like(imgs)\n",
    "\n",
    "for i, image in enumerate(img_list):\n",
    "    current = cv2.imread(image) * mask\n",
    "    imgs[i//10, i%10, ...] = current\n",
    "    hom_key = os.path.basename(img_list[i]).split('.')[0]\n",
    "    homography = np.array(homographies[hom_key])\n",
    "    warped_imgs[i//10, i%10, ...] = cv2.warpPerspective(current,homography,current.shape[:2])"
   ]
  },
  {
   "cell_type": "code",
   "execution_count": 39,
   "id": "e5f400ec",
   "metadata": {
    "pycharm": {
     "name": "#%%\n"
    }
   },
   "outputs": [],
   "source": [
    "for i in range(7):\n",
    "    integrated = warped_imgs[i, ...].mean(axis=0)\n",
    "    cv2.imwrite('data/train_ready/train-1-0/' + f\"{i}.png\", \n",
    "                integrated)"
   ]
  },
  {
   "cell_type": "code",
   "execution_count": 40,
   "id": "5ccad354",
   "metadata": {},
   "outputs": [
    {
     "data": {
      "text/plain": [
       "['data/train/train-1-0/0-B01.png',\n",
       " 'data/train/train-1-0/0-B02.png',\n",
       " 'data/train/train-1-0/0-B03.png',\n",
       " 'data/train/train-1-0/0-B04.png',\n",
       " 'data/train/train-1-0/0-B05.png',\n",
       " 'data/train/train-1-0/0-G01.png',\n",
       " 'data/train/train-1-0/0-G02.png',\n",
       " 'data/train/train-1-0/0-G03.png',\n",
       " 'data/train/train-1-0/0-G04.png',\n",
       " 'data/train/train-1-0/0-G05.png',\n",
       " 'data/train/train-1-0/1-B01.png',\n",
       " 'data/train/train-1-0/1-B02.png',\n",
       " 'data/train/train-1-0/1-B03.png',\n",
       " 'data/train/train-1-0/1-B04.png',\n",
       " 'data/train/train-1-0/1-B05.png',\n",
       " 'data/train/train-1-0/1-G01.png',\n",
       " 'data/train/train-1-0/1-G02.png',\n",
       " 'data/train/train-1-0/1-G03.png',\n",
       " 'data/train/train-1-0/1-G04.png',\n",
       " 'data/train/train-1-0/1-G05.png',\n",
       " 'data/train/train-1-0/2-B01.png',\n",
       " 'data/train/train-1-0/2-B02.png',\n",
       " 'data/train/train-1-0/2-B03.png',\n",
       " 'data/train/train-1-0/2-B04.png',\n",
       " 'data/train/train-1-0/2-B05.png',\n",
       " 'data/train/train-1-0/2-G01.png',\n",
       " 'data/train/train-1-0/2-G02.png',\n",
       " 'data/train/train-1-0/2-G03.png',\n",
       " 'data/train/train-1-0/2-G04.png',\n",
       " 'data/train/train-1-0/2-G05.png',\n",
       " 'data/train/train-1-0/3-B01.png',\n",
       " 'data/train/train-1-0/3-B02.png',\n",
       " 'data/train/train-1-0/3-B03.png',\n",
       " 'data/train/train-1-0/3-B04.png',\n",
       " 'data/train/train-1-0/3-B05.png',\n",
       " 'data/train/train-1-0/3-G01.png',\n",
       " 'data/train/train-1-0/3-G02.png',\n",
       " 'data/train/train-1-0/3-G03.png',\n",
       " 'data/train/train-1-0/3-G04.png',\n",
       " 'data/train/train-1-0/3-G05.png',\n",
       " 'data/train/train-1-0/4-B01.png',\n",
       " 'data/train/train-1-0/4-B02.png',\n",
       " 'data/train/train-1-0/4-B03.png',\n",
       " 'data/train/train-1-0/4-B04.png',\n",
       " 'data/train/train-1-0/4-B05.png',\n",
       " 'data/train/train-1-0/4-G01.png',\n",
       " 'data/train/train-1-0/4-G02.png',\n",
       " 'data/train/train-1-0/4-G03.png',\n",
       " 'data/train/train-1-0/4-G04.png',\n",
       " 'data/train/train-1-0/4-G05.png',\n",
       " 'data/train/train-1-0/5-B01.png',\n",
       " 'data/train/train-1-0/5-B02.png',\n",
       " 'data/train/train-1-0/5-B03.png',\n",
       " 'data/train/train-1-0/5-B04.png',\n",
       " 'data/train/train-1-0/5-B05.png',\n",
       " 'data/train/train-1-0/5-G01.png',\n",
       " 'data/train/train-1-0/5-G02.png',\n",
       " 'data/train/train-1-0/5-G03.png',\n",
       " 'data/train/train-1-0/5-G04.png',\n",
       " 'data/train/train-1-0/5-G05.png',\n",
       " 'data/train/train-1-0/6-B01.png',\n",
       " 'data/train/train-1-0/6-B02.png',\n",
       " 'data/train/train-1-0/6-B03.png',\n",
       " 'data/train/train-1-0/6-B04.png',\n",
       " 'data/train/train-1-0/6-B05.png',\n",
       " 'data/train/train-1-0/6-G01.png',\n",
       " 'data/train/train-1-0/6-G02.png',\n",
       " 'data/train/train-1-0/6-G03.png',\n",
       " 'data/train/train-1-0/6-G04.png',\n",
       " 'data/train/train-1-0/6-G05.png']"
      ]
     },
     "execution_count": 40,
     "metadata": {},
     "output_type": "execute_result"
    }
   ],
   "source": [
    "img_list"
   ]
  },
  {
   "cell_type": "code",
   "execution_count": null,
   "id": "f7eec6f8",
   "metadata": {},
   "outputs": [],
   "source": []
  }
 ],
 "metadata": {
  "kernelspec": {
   "display_name": "Python 3",
   "language": "python",
   "name": "python3"
  },
  "language_info": {
   "codemirror_mode": {
    "name": "ipython",
    "version": 3
   },
   "file_extension": ".py",
   "mimetype": "text/x-python",
   "name": "python",
   "nbconvert_exporter": "python",
   "pygments_lexer": "ipython3",
   "version": "3.8.8"
  }
 },
 "nbformat": 4,
 "nbformat_minor": 5
}

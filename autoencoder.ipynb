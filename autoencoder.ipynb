{
 "cells": [
  {
   "cell_type": "code",
   "execution_count": 1,
   "id": "a95c0731",
   "metadata": {},
   "outputs": [
    {
     "data": {
      "text/plain": [
       "(182, 1024, 1024, 3)"
      ]
     },
     "execution_count": 1,
     "metadata": {},
     "output_type": "execute_result"
    }
   ],
   "source": [
    "import numpy as np\n",
    "import pandas as pd\n",
    "import cv2\n",
    "%matplotlib widget\n",
    "%matplotlib inline\n",
    "import matplotlib.pyplot as plt\n",
    "\n",
    "# prepare images\n",
    "folders = ['train-1-5',\n",
    " 'train-1-2',\n",
    " 'train-1-14',\n",
    " 'train-1-13',\n",
    " 'train-1-3',\n",
    " 'train-1-4',\n",
    " 'train-1-12',\n",
    " 'train-1-15',\n",
    " 'train-2-5',\n",
    " 'train-2-2',\n",
    " 'train-2-3',\n",
    " 'train-2-4',\n",
    " 'train-1-10',\n",
    " 'train-1-8',\n",
    " 'train-1-1',\n",
    " 'train-1-6',\n",
    " 'train-1-11',\n",
    " 'train-1-7',\n",
    " 'train-1-0',\n",
    " 'train-1-9',\n",
    " 'train-2-8',\n",
    " 'train-2-1',\n",
    " 'train-2-6',\n",
    " 'train-2-7',\n",
    " 'train-2-0',\n",
    " 'train-2-9']\n",
    "\n",
    "images = np.empty(shape=(26*7, 1024, 1024, 3)) \n",
    "\n",
    "for n, f in enumerate(folders):\n",
    "    for i in range(7):\n",
    "        images[n*7 + i] = cv2.imread('data/train_ready/%s/%d.png'%(f, i))\n",
    "\n",
    "        \n",
    "images.shape"
   ]
  },
  {
   "cell_type": "code",
   "execution_count": 2,
   "id": "8e4f492d",
   "metadata": {},
   "outputs": [],
   "source": [
    "def preprocess(array):\n",
    "    \"\"\"\n",
    "    Normalizes the supplied array and reshapes it into \n",
    "    the appropriate format.\n",
    "    \"\"\"\n",
    "\n",
    "    array = array.astype(\"float32\") / 255.0\n",
    "    array = np.reshape(array, (len(array), 28, 28, 1))\n",
    "    return array\n",
    "\n",
    "\n",
    "def noise(array):\n",
    "    \"\"\"\n",
    "    Adds random noise to each image in the supplied array.\n",
    "    \"\"\"\n",
    "\n",
    "    noise_factor = 0.4\n",
    "    noisy_array = array + noise_factor * np.random.normal(\n",
    "        loc=0.0, scale=1.0, size=array.shape\n",
    "    )\n",
    "\n",
    "    return np.clip(noisy_array, 0.0, 1.0)\n",
    "\n",
    "def display(array1, array2):\n",
    "    \"\"\"\n",
    "    Displays ten random images from each one of the supplied arrays.\n",
    "    \"\"\"\n",
    "\n",
    "    n = 10\n",
    "\n",
    "    indices = np.random.randint(len(array1), size=n)\n",
    "    images1 = array1[indices, :]\n",
    "    images2 = array2[indices, :]\n",
    "\n",
    "    plt.figure(figsize=(20, 4))\n",
    "    for i, (image1, image2) in enumerate(zip(images1, images2)):\n",
    "        ax = plt.subplot(2, n, i + 1)\n",
    "        plt.imshow(image1.reshape(28, 28))\n",
    "        plt.gray()\n",
    "        ax.get_xaxis().set_visible(False)\n",
    "        ax.get_yaxis().set_visible(False)\n",
    "\n",
    "        ax = plt.subplot(2, n, i + 1 + n)\n",
    "        plt.imshow(image2.reshape(28, 28))\n",
    "        plt.gray()\n",
    "        ax.get_xaxis().set_visible(False)\n",
    "        ax.get_yaxis().set_visible(False)\n",
    "\n",
    "    plt.show()\n",
    "\n"
   ]
  },
  {
   "cell_type": "code",
   "execution_count": 3,
   "id": "0c635872",
   "metadata": {},
   "outputs": [
    {
     "name": "stdout",
     "output_type": "stream",
     "text": [
      "Model: \"model\"\n",
      "_________________________________________________________________\n",
      "Layer (type)                 Output Shape              Param #   \n",
      "=================================================================\n",
      "input_1 (InputLayer)         [(None, 1024, 1024, 3)]   0         \n",
      "_________________________________________________________________\n",
      "conv2d (Conv2D)              (None, 1024, 1024, 32)    896       \n",
      "_________________________________________________________________\n",
      "max_pooling2d (MaxPooling2D) (None, 512, 512, 32)      0         \n",
      "_________________________________________________________________\n",
      "conv2d_1 (Conv2D)            (None, 512, 512, 32)      9248      \n",
      "_________________________________________________________________\n",
      "max_pooling2d_1 (MaxPooling2 (None, 256, 256, 32)      0         \n",
      "_________________________________________________________________\n",
      "conv2d_transpose (Conv2DTran (None, 512, 512, 32)      9248      \n",
      "_________________________________________________________________\n",
      "conv2d_transpose_1 (Conv2DTr (None, 1024, 1024, 32)    9248      \n",
      "_________________________________________________________________\n",
      "conv2d_2 (Conv2D)            (None, 1024, 1024, 3)     867       \n",
      "=================================================================\n",
      "Total params: 29,507\n",
      "Trainable params: 29,507\n",
      "Non-trainable params: 0\n",
      "_________________________________________________________________\n"
     ]
    }
   ],
   "source": [
    "import keras\n",
    "from tensorflow.keras import layers\n",
    "from tensorflow.keras.models import Model\n",
    "\n",
    "input = layers.Input(shape=(1024, 1024, 3))\n",
    "\n",
    "# Encoder\n",
    "x = layers.Conv2D(32, (3, 3), \n",
    "                  activation=\"relu\", \n",
    "                  padding=\"same\")(input)\n",
    "\n",
    "x = layers.MaxPooling2D((2, 2), \n",
    "                        padding=\"same\")(x)\n",
    "\n",
    "x = layers.Conv2D(32, (3, 3), \n",
    "                  activation=\"relu\", \n",
    "                  padding=\"same\")(x)\n",
    "\n",
    "x = layers.MaxPooling2D((2, 2), \n",
    "                        padding=\"same\")(x)\n",
    "\n",
    "# Decoder\n",
    "x = layers.Conv2DTranspose(32, (3, 3), \n",
    "                           strides=2, \n",
    "                           activation=\"relu\", \n",
    "                           padding=\"same\")(x)\n",
    "\n",
    "x = layers.Conv2DTranspose(32, (3, 3), strides=2,\n",
    "                           activation=\"relu\", \n",
    "                           padding=\"same\")(x)\n",
    "\n",
    "x = layers.Conv2D(3, (3, 3), activation=\"sigmoid\", \n",
    "                  padding=\"same\")(x)\n",
    "\n",
    "# Autoencoder\n",
    "autoencoder = Model(input, x)\n",
    "autoencoder.compile(optimizer=\"adam\", loss=\"binary_crossentropy\")\n",
    "autoencoder.summary()\n"
   ]
  },
  {
   "cell_type": "code",
   "execution_count": 43,
   "id": "d7adacd9",
   "metadata": {},
   "outputs": [
    {
     "name": "stdout",
     "output_type": "stream",
     "text": [
      "Epoch 1/5\n",
      "18/18 [==============================] - 223s 12s/step - loss: -31048849162240.0000\n",
      "Epoch 2/5\n",
      "18/18 [==============================] - 207s 11s/step - loss: -39018951606272.0000\n",
      "Epoch 3/5\n",
      "18/18 [==============================] - 211s 12s/step - loss: -48521986179072.0000\n",
      "Epoch 4/5\n",
      "18/18 [==============================] - 474s 27s/step - loss: -59774859214848.0000\n",
      "Epoch 5/5\n",
      "18/18 [==============================] - 189s 10s/step - loss: -72977316052992.0000\n"
     ]
    }
   ],
   "source": [
    "train_data = images[:-10]\n",
    "\n",
    "history = autoencoder.fit(x=train_data,\n",
    "                            y=train_data,\n",
    "                            epochs=5,\n",
    "                            batch_size=10,\n",
    "                            shuffle=True,\n",
    "                        ).history\n"
   ]
  },
  {
   "cell_type": "code",
   "execution_count": 37,
   "id": "62fb7c65",
   "metadata": {},
   "outputs": [
    {
     "data": {
      "image/png": "[encoded data removed]",
      "text/plain": [
       "<Figure size 432x288 with 1 Axes>"
      ]
     },
     "metadata": {
      "needs_background": "light"
     },
     "output_type": "display_data"
    }
   ],
   "source": [
    "plt.plot(history['loss'], linewidth=2, label='Train')\n",
    "# plt.plot(history['val_loss'], linewidth=2, label='Test')\n",
    "plt.legend(loc='upper right')\n",
    "plt.title('Model loss')\n",
    "plt.ylabel('Loss')\n",
    "plt.xlabel('Epoch')\n",
    "#plt.ylim(ymin=0.70,ymax=1)\n",
    "plt.show()"
   ]
  },
  {
   "cell_type": "code",
   "execution_count": 38,
   "id": "9f9438a4",
   "metadata": {},
   "outputs": [],
   "source": [
    "predictions = autoencoder.predict(train_data)\n",
    "#display(train_data, predictions)\n"
   ]
  },
  {
   "cell_type": "code",
   "execution_count": 39,
   "id": "4b3d3717",
   "metadata": {},
   "outputs": [
    {
     "data": {
      "text/plain": [
       "True"
      ]
     },
     "execution_count": 39,
     "metadata": {},
     "output_type": "execute_result"
    }
   ],
   "source": [
    "cv2.imwrite('pred.png', predictions[100])"
   ]
  },
  {
   "cell_type": "code",
   "execution_count": 44,
   "id": "3d3cd752",
   "metadata": {},
   "outputs": [
    {
     "data": {
      "text/plain": [
       "<matplotlib.image.AxesImage at 0x7f9253f35640>"
      ]
     },
     "execution_count": 44,
     "metadata": {},
     "output_type": "execute_result"
    },
    {
     "data": {
      "image/png": "[encoded data removed]",
      "text/plain": [
       "<Figure size 432x288 with 1 Axes>"
      ]
     },
     "metadata": {
      "needs_background": "light"
     },
     "output_type": "display_data"
    }
   ],
   "source": [
    "plt.imshow(predictions[10])"
   ]
  },
  {
   "cell_type": "code",
   "execution_count": 2,
   "id": "4a19213b",
   "metadata": {},
   "outputs": [],
   "source": [
    "# why the white image pred?"
   ]
  },
  {
   "cell_type": "code",
   "execution_count": null,
   "id": "486ceb1f",
   "metadata": {},
   "outputs": [],
   "source": []
  }
 ],
 "metadata": {
  "kernelspec": {
   "display_name": "Python 3",
   "language": "python",
   "name": "python3"
  },
  "language_info": {
   "codemirror_mode": {
    "name": "ipython",
    "version": 3
   },
   "file_extension": ".py",
   "mimetype": "text/x-python",
   "name": "python",
   "nbconvert_exporter": "python",
   "pygments_lexer": "ipython3",
   "version": "3.8.8"
  }
 },
 "nbformat": 4,
 "nbformat_minor": 5
}

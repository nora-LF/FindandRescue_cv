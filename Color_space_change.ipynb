{
 "cells": [
  {
   "cell_type": "code",
   "execution_count": 11,
   "id": "e2e1e56f",
   "metadata": {},
   "outputs": [],
   "source": [
    "import numpy as np\n",
    "import skimage\n",
    "import cv2\n",
    "import json\n",
    "%matplotlib widget\n",
    "%matplotlib inline\n",
    "import matplotlib.pyplot as plt\n",
    "import shutil\n",
    "import os\n"
   ]
  },
  {
   "cell_type": "code",
   "execution_count": 2,
   "id": "f156391a",
   "metadata": {},
   "outputs": [],
   "source": [
    "folders = ['train-1-5',\n",
    " 'train-1-2',\n",
    " 'train-1-14',\n",
    " 'train-1-13',\n",
    " 'train-1-3',\n",
    " 'train-1-4',\n",
    " 'train-1-12',\n",
    " 'train-1-15',\n",
    " 'train-2-5',\n",
    " 'train-2-2',\n",
    " 'train-2-3',\n",
    " 'train-2-4',\n",
    " 'train-1-10',\n",
    " 'train-1-8',\n",
    " 'train-1-1',\n",
    " 'train-1-6',\n",
    " 'train-1-11',\n",
    " 'train-1-7',\n",
    " 'train-1-0',\n",
    " 'train-1-9',\n",
    " 'train-2-8',\n",
    " 'train-2-1',\n",
    " 'train-2-6',\n",
    " 'train-2-7',\n",
    " 'train-2-0',\n",
    " 'train-2-9']\n"
   ]
  },
  {
   "cell_type": "code",
   "execution_count": 21,
   "id": "97a537f0",
   "metadata": {},
   "outputs": [],
   "source": [
    "def change_color_space(f, i):\n",
    "    \n",
    "    img = cv2.imread('data/train_ready/%s/%d.png'%(f, i))\n",
    "    img = cv2.cvtColor(img, cv2.COLOR_BGR2HSV)\n",
    "   \n",
    "    cv2.imwrite('data/train_color_space/%s/%d.png'%(f, i),\n",
    "                img) \n",
    "    "
   ]
  },
  {
   "cell_type": "code",
   "execution_count": 22,
   "id": "efd6f659",
   "metadata": {},
   "outputs": [],
   "source": [
    "for fname in folders:\n",
    "    try:\n",
    "        shutil.rmtree('data/train_color_space/%s/'%fname)\n",
    "    except OSError as e:\n",
    "        print('Could not remove %s'%'data/train_color_space/%s/'%fname)\n",
    "    try:\n",
    "        os.mkdir('data/train_color_space/%s/'%fname)\n",
    "    except OSError:\n",
    "        print (\"Creation of the directory failed\")\n",
    "        \n",
    "    for i in range(7):\n",
    "\n",
    "        change_color_space(fname, i)\n",
    "        "
   ]
  },
  {
   "cell_type": "code",
   "execution_count": null,
   "id": "e5968fc6",
   "metadata": {},
   "outputs": [],
   "source": []
  }
 ],
 "metadata": {
  "kernelspec": {
   "display_name": "Python 3",
   "language": "python",
   "name": "python3"
  },
  "language_info": {
   "codemirror_mode": {
    "name": "ipython",
    "version": 3
   },
   "file_extension": ".py",
   "mimetype": "text/x-python",
   "name": "python",
   "nbconvert_exporter": "python",
   "pygments_lexer": "ipython3",
   "version": "3.8.8"
  }
 },
 "nbformat": 4,
 "nbformat_minor": 5
}
